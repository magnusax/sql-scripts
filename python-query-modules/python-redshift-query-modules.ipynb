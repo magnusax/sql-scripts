{
 "cells": [
  {
   "cell_type": "markdown",
   "metadata": {},
   "source": [
    "# Redshift query modules"
   ]
  },
  {
   "cell_type": "code",
   "execution_count": 1,
   "metadata": {
    "collapsed": true
   },
   "outputs": [],
   "source": [
    "import pandas as pd\n",
    "import psycopg2\n",
    "import time\n",
    "import sys"
   ]
  },
  {
   "cell_type": "code",
   "execution_count": 2,
   "metadata": {
    "collapsed": true
   },
   "outputs": [],
   "source": [
    "def query_database(connection, sql):\n",
    "\n",
    "    try:\n",
    "        con = psycopg2.connect(connection)\n",
    "    except:\n",
    "        print(\"Could not connect to db: '%s'\\n\\n[Attempting to close connection]\" \n",
    "              % sys.exc_info()[1])\n",
    "        try:\n",
    "            con.close()\n",
    "        except:\n",
    "            print(\"Connection already closed.\")\n",
    "        return pd.DataFrame() # If fail, return empty frame\n",
    "    cursor = con.cursor()\n",
    "\n",
    "    start_time = time.time()\n",
    "    try:\n",
    "        cursor.execute(sql)\n",
    "        # Get data \n",
    "        df = pd.DataFrame(cursor.fetchall())\n",
    "        df.columns = [name[0] for name in cursor.description]\n",
    "    except:\n",
    "        print(\"Could not execute query: %s\" % sys.exc_info()[1])\n",
    "        return pd.DataFrame() \n",
    "    finally:\n",
    "        cursor.close()\n",
    "        con.commit()\n",
    "        con.close()\n",
    "    end_time = time.time()\n",
    "    print(\"Time to execute = %.1f minutes.\" % ((end_time-start_time)/60.))\n",
    "    return df"
   ]
  },
  {
   "cell_type": "code",
   "execution_count": null,
   "metadata": {
    "collapsed": true
   },
   "outputs": [],
   "source": []
  }
 ],
 "metadata": {
  "kernelspec": {
   "display_name": "Python 3",
   "language": "python",
   "name": "python3"
  },
  "language_info": {
   "codemirror_mode": {
    "name": "ipython",
    "version": 3
   },
   "file_extension": ".py",
   "mimetype": "text/x-python",
   "name": "python",
   "nbconvert_exporter": "python",
   "pygments_lexer": "ipython3",
   "version": "3.4.5"
  }
 },
 "nbformat": 4,
 "nbformat_minor": 0
}
